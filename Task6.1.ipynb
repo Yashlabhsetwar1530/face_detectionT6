Step 1 - Collect dataset by clicking your pics
In [5]:
import cv2, numpy

#Loading HAAR face classifier
face_classifier=cv2.CascadeClassifier('haarcascade_frontalface_default.xml')

# Function detects faces and returns the cropped face. If no face detected, it returns the input image
def face_extractor(img):
    gray=cv2.cvtColor(img, cv2.COLOR_BGR2GRAY)
    faces=face_classifier.detectMultiScale(img, scaleFactor=1.3, minNeighbors=5)
    
    if faces is ():
        return None
        
    # Crop all faces found
    for (x,y,w,h) in faces:
        cropped_face=img[y:y+h,x:x+w]
    return cropped_face
<>:11: SyntaxWarning: "is" with a literal. Did you mean "=="?
<>:11: SyntaxWarning: "is" with a literal. Did you mean "=="?
<ipython-input-5-ad8562117391>:11: SyntaxWarning: "is" with a literal. Did you mean "=="?
  if faces is ():
In [6]:
# Initialize Webcam
cap=cv2.VideoCapture(0)
count=0
In [7]:
# Collect 100 samples of your face from webcam input
while True:
    ret,frame=cap.read()
    
    if face_extractor(frame) is not None:
        count+=1
        face=cv2.resize(face_extractor(frame), (200,200))
        face=cv2.cvtColor(face,cv2.COLOR_BGR2GRAY)
        
        # Save file in specified directory with unique name
        file_name_path='../faces/user2/' + str(count) + '.jpg'
        cv2.imwrite(file_name_path,face)
        
        # Put count on images and display live count
        cv2.putText(face, str(count), (50,50), cv2.FONT_HERSHEY_COMPLEX, 1,(0,255,0), 2 )
        cv2.imshow("face cropper", face)
        
    else:
        print("face not found")
        
    if cv2.waitKey(2) == 13 or count == 100:
        break
        

cap.release()
cv2.destroyAllWindows()      
print("Collecting Samples Complete")
face not found
face not found
face not found
face not found
face not found
face not found
face not found
face not found
face not found
face not found
face not found
face not found
face not found
face not found
face not found
face not found
face not found
face not found
face not found
face not found
face not found
face not found
face not found
face not found
face not found
face not found
face not found
Collecting Samples Complete
In [ ]:
cap.release()
Step 2 - Train Model
In [8]:
import cv2, numpy, os


# Get the training data we previously made
data_path="../faces/user2/"
if not os.path.exists(data_path):
    os.mkdir(data_path)
#print(os.listdir())

onlyfiles = [f for f in os.listdir(data_path) if os.path.isfile(os.path.join(data_path, f))]

#print(onlyfiles)
#print(type(onlyfiles))
In [9]:
# Create arrays for training data and labels
Training_Data, Labels = [], []
In [10]:
# Open training images in our datapath. Create a numpy array for training data
for i,files in enumerate(onlyfiles):
    image_path=data_path + onlyfiles[i]
    images = cv2.imread(image_path, cv2.IMREAD_GRAYSCALE)
    Training_Data.append(numpy.asarray(images,dtype=numpy.uint8))
    Labels.append(i)
    
# Create a numpy array for both training data and labels
Labels=numpy.asarray(Labels,dtype=numpy.int32)
In [11]:
name=input("Enter your name: ")
Enter your name: K
In [12]:
#print("Model for "+name+" trained successfully")
In [13]:
# Let's train our model 
model_name=cv2.face_LBPHFaceRecognizer.create()
model_name.train(numpy.asarray(Training_Data),numpy.asarray(Labels))
print("Model "+name+" trained successfully")
Model K trained successfully
In [ ]:

In [ ]:

Step 3 - Run Our Facial Recognition
In [17]:
import cv2, numpy, os
face_classifier=cv2.CascadeClassifier("haarcascade_frontalface_default.xml")
In [18]:
def face_detector(img,size=0.5):
    
    # Convert image to grayscale
    gray=cv2.cvtColor(img,cv2.COLOR_BGR2GRAY)
    faces=face_classifier.detectMultiScale(gray,scaleFactor=1.3, minNeighbors=5)
    if faces is ():
        return img, []
    
    for (x,y,w,h) in faces:
        cv2.rectangle(img,(x,y),(x+w,y+h),(0,255,255),2)
        roi=img[y:y+h,x:x+w]
        roi=cv2.resize(roi,(200,200))
    return img, roi
<>:6: SyntaxWarning: "is" with a literal. Did you mean "=="?
<>:6: SyntaxWarning: "is" with a literal. Did you mean "=="?
<ipython-input-18-37fbe04b0d40>:6: SyntaxWarning: "is" with a literal. Did you mean "=="?
  if faces is ():
In [19]:
# Open Webcam
cap=cv2.VideoCapture(0)

while True:
    ret,frame=cap.read()
    image, face = face_detector(frame)
    try:
        face=cv2.cvtColor(face,cv2.COLOR_BGR2GRAY)
        
        # Pass face to prediction model
        # "results" comprises of a tuple containing the label and the confidence value
        results=model_name.predict(face)
        print(results)
        
        if results[1]<500:
            confidence=int(100*(1-results[1]/400))
            display_string=str(confidence)+"% confident it is "+name
            
        cv2.putText(image,display_string,(100,200),cv2.FONT_HERSHEY_COMPLEX,1, (255,120,150),2)
        
        if confidence > 80:
            cv2.putText(image,"Hey "+name,(250,450), cv2.FONT_HERSHEY_COMPLEX,1, (0,255,0),2)
            cv2.imshow("face Recognition", image)
            ############ CODE TO AUTOMATE: HERE ###########################
            # 1. Sending mail :Code starts here 
            import smtplib, ssl, credentials
            from email.mime.text import MIMEText
            from email.mime.base import MIMEBase
            from email.mime.multipart import MIMEMultipart
            from email import encoders


            receivers=['krithikasharma2129@gmail.com']
            body="Happy coding!!"

            msg=MIMEMultipart()
            print(msg)
            msg["Subject"]="This is face of "+name
            msg['From']= credentials.mail
            msg['To']=",".join(receivers)

            s=smtplib.SMTP_SSL(host="smtp.gmail.com",port=465)
            s.login(user=credentials.mail, password=credentials.passwd)
            s.sendmail(credentials.mail,receivers,msg.as_string())
            s.quit()
            # sending mail: Code ends here
            
            # 2. Sending Whatsapp message: Code starts here 
            import pywhatkit
            hr, mi, sec=input("enter the hr, min, sec(seperated by space in 24 hr format)").split()
            print(int(hr),int(mi),int(sec))
            pywhatkit.sendwhatmsg("+917386338720","Hi this is automated msg sent using python!!",int(hr),int(mi),int(sec))
            # Sending Whatsapp message: Code ends here
            
            break
            
            
        else:
            cv2.putText(image,"I don't know who r u",(250,450),cv2.FONT_HERSHEY_COMPLEX,1,(0,0,255),2)
            cv2.imshow("Face Recognition", image)
            
    except:
        cv2.putText(image, "No Face Found", (220, 120) , cv2.FONT_HERSHEY_COMPLEX, 1, (0,0,255), 2)
        cv2.putText(image, "looking for face", (250, 450), cv2.FONT_HERSHEY_COMPLEX, 1, (0,0,255), 2)
        cv2.imshow('Face Recognition', image )
        pass
        if cv2.waitKey(20) == 13: #13 is the Enter Key
            break
        
    cap.release()
    
    cv2.destroyAllWindows()
(18, 31.147849112411205)
Content-Type: multipart/mixed; boundary="===============5876453558387367785=="
MIME-Version: 1.0

--===============5876453558387367785==

--===============5876453558387367785==--

enter the hr, min, sec(seperated by space in 24 hr format)17 37 20
17 37 20
In 28 seconds web.whatsapp.com will open and after 20 seconds message will be delivered
In [ ]:

In [ ]:
cap.release()
